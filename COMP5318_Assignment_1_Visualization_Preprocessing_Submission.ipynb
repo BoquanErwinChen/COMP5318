{
 "cells": [
  {
   "cell_type": "code",
   "execution_count": 1,
   "metadata": {},
   "outputs": [
    {
     "name": "stderr",
     "output_type": "stream",
     "text": [
      "C:\\Users\\jouse\\Anaconda2\\envs\\py36\\lib\\site-packages\\h5py\\__init__.py:36: FutureWarning: Conversion of the second argument of issubdtype from `float` to `np.floating` is deprecated. In future, it will be treated as `np.float64 == np.dtype(float).type`.\n",
      "  from ._conv import register_converters as _register_converters\n"
     ]
    }
   ],
   "source": [
    "%matplotlib inline\n",
    "\n",
    "import h5py\n",
    "import numpy as np\n",
    "from matplotlib import pyplot as plt\n",
    "import matplotlib as mpl\n",
    "import scipy\n",
    "from collections import Counter\n",
    "from ipywidgets import interact, interactive, fixed\n",
    "import ipywidgets as widgets\n",
    "from IPython.display import display\n",
    "from numpy.random import shuffle\n",
    "from scipy.spatial.distance import pdist, squareform\n",
    "from scipy.spatial import KDTree\n",
    "\n",
    "mpl.style.use('seaborn')"
   ]
  },
  {
   "cell_type": "code",
   "execution_count": 2,
   "metadata": {},
   "outputs": [],
   "source": [
    "def get_accuracy(y_true, y_pred): \n",
    "    \"\"\"\n",
    "    Calculate the accuracy score.\n",
    "    \"\"\"\n",
    "    y_true = np.array(y_true)\n",
    "    y_pred = np.array(y_pred)\n",
    "    return np.sum(y_true == y_pred)/len(y_true)\n",
    "\n",
    "def flat(data):\n",
    "    \"\"\"\n",
    "    Flatten images in the data array. \n",
    "    \"\"\"\n",
    "    return data.reshape(data.shape[0], data.shape[1]**2)"
   ]
  },
  {
   "cell_type": "code",
   "execution_count": 3,
   "metadata": {},
   "outputs": [],
   "source": [
    "# load training data and labels\n",
    "with h5py.File('images_training.h5','r') as H:\n",
    "    data = np.copy(H['data'])\n",
    "    data = np.array([x/np.amax(x) for x in data]) # normalize images\n",
    "with h5py.File('labels_training.h5','r') as H:\n",
    "    label = np.copy(H['label'])"
   ]
  },
  {
   "cell_type": "code",
   "execution_count": 4,
   "metadata": {},
   "outputs": [],
   "source": [
    "# load testing data and labels\n",
    "with h5py.File('images_testing.h5','r') as H:\n",
    "    data_test = np.copy(H['data'])\n",
    "    data_test = np.array([x/np.amax(x) for x in data_test]) # normalize images\n",
    "with h5py.File('labels_testing_2000.h5','r') as H:\n",
    "    label_test = np.copy(H['label'])"
   ]
  },
  {
   "cell_type": "code",
   "execution_count": 5,
   "metadata": {},
   "outputs": [
    {
     "data": {
      "application/vnd.jupyter.widget-view+json": {
       "model_id": "41f1f04f057d40b19bb6ebe150f3ba41",
       "version_major": 2,
       "version_minor": 0
      },
      "text/plain": [
       "interactive(children=(Dropdown(description='n', options=(0, 1, 2, 3, 4, 5, 6, 7, 8, 9), value=0), Output()), _…"
      ]
     },
     "metadata": {},
     "output_type": "display_data"
    },
    {
     "data": {
      "text/plain": [
       "<function __main__.plot_group_mean(n, data)>"
      ]
     },
     "execution_count": 5,
     "metadata": {},
     "output_type": "execute_result"
    }
   ],
   "source": [
    "def plot_group_mean(n, data):\n",
    "    \"\"\"\n",
    "    Plot the aggregate average of each class. \n",
    "    \"\"\"\n",
    "    data = data\n",
    "    fig, ax = plt.subplots()\n",
    "    plt.imshow(np.mean(data[label == n], axis=0))\n",
    "    plt.show()\n",
    "    \n",
    "choice = np.array(list(set(label)))\n",
    "interact(plot_group_mean, n=choice, data=fixed(data))"
   ]
  },
  {
   "cell_type": "markdown",
   "metadata": {},
   "source": [
    "## Singular Value Decomposition "
   ]
  },
  {
   "cell_type": "code",
   "execution_count": 6,
   "metadata": {},
   "outputs": [],
   "source": [
    "k_svd = 10 # number of singular values to save"
   ]
  },
  {
   "cell_type": "code",
   "execution_count": 7,
   "metadata": {},
   "outputs": [
    {
     "data": {
      "image/png": "[encoded data removed]",
      "text/plain": [
       "<Figure size 432x288 with 1 Axes>"
      ]
     },
     "metadata": {},
     "output_type": "display_data"
    }
   ],
   "source": [
    "# Singular Value Decomposition on training images\n",
    "\n",
    "u, s, vh = np.linalg.svd(data)\n",
    "data_svd = np.array([u[i][:,:k_svd] @ np.diag(s[i][:k_svd]) @ vh[i][:k_svd:,] for i in range(s.shape[0])])\n",
    "\n",
    "fig, ax = plt.subplots()\n",
    "for n in list(set(label)):\n",
    "    x = np.arange(data[0].shape[0])\n",
    "    y = np.mean(s[label == n], axis=0)\n",
    "    yerr = np.std(s[label == n], axis=0)\n",
    "    ax.errorbar(x, y, yerr=0, alpha=0.5)\n",
    "ax.set_xlabel('Index')\n",
    "ax.set_ylabel('Singular Value')\n",
    "ax.set_title('SVD Results (Mean)')\n",
    "plt.show()"
   ]
  },
  {
   "cell_type": "code",
   "execution_count": 8,
   "metadata": {},
   "outputs": [
    {
     "data": {
      "application/vnd.jupyter.widget-view+json": {
       "model_id": "e7a245311908475dbec5ae11d84fa77a",
       "version_major": 2,
       "version_minor": 0
      },
      "text/plain": [
       "interactive(children=(Dropdown(description='n_0', options=(0, 1, 2, 3, 4, 5, 6, 7, 8, 9, 10, 11, 12, 13, 14, 1…"
      ]
     },
     "metadata": {},
     "output_type": "display_data"
    },
    {
     "data": {
      "text/plain": [
       "<function __main__.svd_2d_scatter(n_0, n_1, sv)>"
      ]
     },
     "execution_count": 8,
     "metadata": {},
     "output_type": "execute_result"
    }
   ],
   "source": [
    "def svd_2d_scatter(n_0, n_1, sv):\n",
    "    \"\"\"\n",
    "    Plot the 2d scatter plot for a selected pair of singular value components. \n",
    "    \"\"\"\n",
    "    fig, ax = plt.subplots()\n",
    "    ax.scatter(sv[:,n_0], sv[:,n_1], c=label, s=0.5, cmap='rainbow', alpha=0.5)\n",
    "    ax.set_xlabel('Singular Value {}'.format(n_0))\n",
    "    ax.set_ylabel('Singular Value {}'.format(n_1))\n",
    "    ax.set_title('SVD Results')\n",
    "    plt.show()\n",
    "\n",
    "choice = np.arange(data[0].shape[0])\n",
    "interact(svd_2d_scatter, n_0=choice, n_1=choice, sv=fixed(s))"
   ]
  },
  {
   "cell_type": "code",
   "execution_count": 9,
   "metadata": {},
   "outputs": [],
   "source": [
    "# Singular Value Decomposition on testing images\n",
    "\n",
    "u, s, vh = np.linalg.svd(data_test)\n",
    "data_test_svd = np.array([u[i][:,:k_svd] @ np.diag(s[i][:k_svd]) @ vh[i][:k_svd:,] for i in range(s.shape[0])])"
   ]
  },
  {
   "cell_type": "code",
   "execution_count": 10,
   "metadata": {},
   "outputs": [
    {
     "data": {
      "application/vnd.jupyter.widget-view+json": {
       "model_id": "60b928c51fe24b27b5a348d6019f9ee1",
       "version_major": 2,
       "version_minor": 0
      },
      "text/plain": [
       "interactive(children=(Dropdown(description='n', options=(0, 1, 2, 3, 4, 5, 6, 7, 8, 9), value=0), Output()), _…"
      ]
     },
     "metadata": {},
     "output_type": "display_data"
    },
    {
     "data": {
      "text/plain": [
       "<function __main__.plot_group_mean(n, data)>"
      ]
     },
     "execution_count": 10,
     "metadata": {},
     "output_type": "execute_result"
    }
   ],
   "source": [
    "choice = np.array(list(set(label)))\n",
    "interact(plot_group_mean, n=choice, data=fixed(data_svd))"
   ]
  },
  {
   "cell_type": "markdown",
   "metadata": {},
   "source": [
    "## Principal Component Analysis\n",
    "\n",
    "Note: PCA is applied to the entire dataset, while SVD is applied to each image. "
   ]
  },
  {
   "cell_type": "code",
   "execution_count": 11,
   "metadata": {},
   "outputs": [],
   "source": [
    "def PCA(n_components, data):\n",
    "    \"\"\"\n",
    "    Principal Component Analysis\n",
    "    \n",
    "    Parameters: \n",
    "    \n",
    "    n_components: int\n",
    "        Number of principal components to use\n",
    "        \n",
    "    data : array-like, shape = (n_samples, n_features)\n",
    "        Data to perform PCA on\n",
    "    \n",
    "    \"\"\"\n",
    "    n_components = n_components\n",
    "    data = data\n",
    "    X = data - np.mean(data, axis=0) # data matrix normalized by mean\n",
    "    S = np.cov(X.T) # compute covariance matrix of X\n",
    "    L, V = np.linalg.eig(S) # L - array of eigenvalues; V - matrix of eigenvectors\n",
    "    V = V[:,np.argsort(-L)][:,:n_components] # sort eigenvectors by descending order on eigenvalues\n",
    "    L = -np.sort(-L)[:n_components] # sort eigenvalues by descending order\n",
    "    X_PCA = V.T @ X.T\n",
    "    X_PCA = X_PCA.T\n",
    "    return X_PCA, V"
   ]
  },
  {
   "cell_type": "code",
   "execution_count": 29,
   "metadata": {},
   "outputs": [
    {
     "name": "stdout",
     "output_type": "stream",
     "text": [
      "(30000, 20)\n",
      "(5000, 20)\n"
     ]
    }
   ],
   "source": [
    "n_components = 20\n",
    "X_PCA, V = PCA(n_components=n_components, data=np.append(flat(data), flat(data_test), axis=0))\n",
    "data_pca = X_PCA[:data.shape[0]]\n",
    "data_test_pca = X_PCA[-data_test.shape[0]:]\n",
    "print(data_pca.shape)\n",
    "print(data_test_pca.shape)"
   ]
  },
  {
   "cell_type": "code",
   "execution_count": 18,
   "metadata": {},
   "outputs": [
    {
     "data": {
      "application/vnd.jupyter.widget-view+json": {
       "model_id": "76fe859047954cf0b73cd1d303639f6c",
       "version_major": 2,
       "version_minor": 0
      },
      "text/plain": [
       "interactive(children=(Dropdown(description='n_0', options=(0, 1, 2, 3, 4, 5, 6, 7, 8, 9, 10, 11, 12, 13, 14, 1…"
      ]
     },
     "metadata": {},
     "output_type": "display_data"
    },
    {
     "data": {
      "text/plain": [
       "<function __main__.pca_2d_scatter(n_0, n_1, data, label)>"
      ]
     },
     "execution_count": 18,
     "metadata": {},
     "output_type": "execute_result"
    }
   ],
   "source": [
    "def pca_2d_scatter(n_0, n_1, data, label):\n",
    "    fig, ax = plt.subplots()\n",
    "    ax.scatter(data[:,n_0], data[:,n_1], c=label, s=0.5, cmap='rainbow', alpha=0.5)\n",
    "    ax.set_xlabel('Principal Component {}'.format(n_0))\n",
    "    ax.set_ylabel('Principal Component {}'.format(n_1))\n",
    "    ax.set_title('PCA Results')\n",
    "    plt.show()\n",
    "\n",
    "choice = np.arange(n_components)\n",
    "interact(pca_2d_scatter, n_0=choice, n_1=choice, data=fixed(data_pca), label=fixed(label))"
   ]
  },
  {
   "cell_type": "markdown",
   "metadata": {},
   "source": [
    "## Some functions"
   ]
  },
  {
   "cell_type": "code",
   "execution_count": 14,
   "metadata": {},
   "outputs": [],
   "source": [
    "# def kfold(N, k=10):\n",
    "#     \"\"\"\n",
    "#     Generate lists of indices for data divided into k equal parts for cross validation. \n",
    "    \n",
    "#     Parameters\n",
    "#     ----------\n",
    "#     N: int\n",
    "#         number of samples in the data. \n",
    "    \n",
    "#     k: int\n",
    "#         number of parts the data will be split into. \n",
    "    \n",
    "#     Returns\n",
    "#     -------\n",
    "#     indices: array, shape(k,) \n",
    "#         An array of arrays, each containing the indices for one part of data. \n",
    "#     \"\"\"\n",
    "    \n",
    "#     arr = np.arange(N)\n",
    "#     np.random.shuffle(arr)\n",
    "#     indices = np.array([arr[i::k] for i in range(k)])\n",
    "    \n",
    "#     return indices"
   ]
  },
  {
   "cell_type": "code",
   "execution_count": 15,
   "metadata": {},
   "outputs": [],
   "source": [
    "# def stratified_kfold(N, label, k=10):\n",
    "#     \"\"\"\n",
    "#     Generate lists of indices for data divided into k equal parts for cross validation. \n",
    "    \n",
    "#     Parameters\n",
    "#     ----------\n",
    "#     N: int\n",
    "#         Number of samples in the data. \n",
    "        \n",
    "#     label: array, shape(n_samples,)\n",
    "#         True labels for the data. \n",
    "    \n",
    "#     k: int\n",
    "#         Number of parts the data will be split into. \n",
    "    \n",
    "#     Returns\n",
    "#     -------\n",
    "#     indices: array, shape(k,) \n",
    "#         An array of arrays, each containing the indices for one part of data. \n",
    "#     \"\"\"\n",
    "    \n",
    "#     list_label = np.array(list(set(label)))\n",
    "#     label_group = np.array([np.where(label == i)[0] for i in list_label])\n",
    "#     for i in range(label.shape[0]):\n",
    "#         shuffle(label_group[i])\n",
    "#     indices = []\n",
    "#     for i in range(k):\n",
    "#         i_fold = np.array([label_group[j][i::k] for j in range(label.shape[0])])\n",
    "#         indices.append(np.hstack(i_fold))\n",
    "#     indices = np.array(indices)\n",
    "#     return indices"
   ]
  },
  {
   "cell_type": "code",
   "execution_count": null,
   "metadata": {},
   "outputs": [],
   "source": [
    "# def get_f1(y_true, y_pred): \n",
    "#     \"\"\"\n",
    "#     Calculate the F1 score. If there are more than two classes, return the unweighted average of all classes. \n",
    "#     \"\"\"\n",
    "#     y_true = np.array(y_true)\n",
    "#     y_pred = np.array(y_pred)\n",
    "#     class_list = np.array(list(set(y_true)))\n",
    "#     precision = np.array([(np.sum((y_true == y_pred) & (y_true == n))/np.sum(y_pred == n)) if np.sum(y_pred == n) > 0 \n",
    "#                                else 0 for n in class_list])\n",
    "#     recall = np.array([(np.sum((y_true == y_pred) & (y_true == n))/np.sum(y_true == n)) for n in class_list])\n",
    "#     f1 = np.array([2*(precision[n] * recall[n]) / (precision[n] + recall[n]) if precision[n] + recall[n] > 0 \n",
    "#                    else 0 for n in class_list])\n",
    "#     return np.mean(f1)\n",
    "    \n",
    "# def get_recall(y_true, y_pred):\n",
    "#     \"\"\"\n",
    "#     Calculate the recall score. If there are more than two classes, return the unweighted average of all classes. \n",
    "#     \"\"\"\n",
    "#     y_true = np.array(y_true)\n",
    "#     y_pred = np.array(y_pred)\n",
    "#     class_list = np.array(list(set(y_true)))\n",
    "#     score_list = np.array([(np.sum((y_true == y_pred) & (y_true == n))/np.sum(y_true == n)) for n in class_list])\n",
    "#     return np.mean(score_list)\n",
    "\n",
    "# def get_precision(y_true, y_pred): \n",
    "#     \"\"\"\n",
    "#     Calculate the precision score. If there are more than two classes, return the unweighted average of all classes. \n",
    "#     \"\"\"\n",
    "#     y_true = np.array(y_true)\n",
    "#     y_pred = np.array(y_pred)\n",
    "#     class_list = np.array(list(set(y_true)))\n",
    "#     score_list = np.array([(np.sum((y_true == y_pred) & (y_true == n))/np.sum(y_pred == n)) if np.sum(y_pred == n) > 0 \n",
    "#                            else 0 for n in class_list])\n",
    "#     return np.mean(score_list)"
   ]
  }
 ],
 "metadata": {
  "kernelspec": {
   "display_name": "Python 3",
   "language": "python",
   "name": "python3"
  },
  "language_info": {
   "codemirror_mode": {
    "name": "ipython",
    "version": 3
   },
   "file_extension": ".py",
   "mimetype": "text/x-python",
   "name": "python",
   "nbconvert_exporter": "python",
   "pygments_lexer": "ipython3",
   "version": "3.6.5"
  }
 },
 "nbformat": 4,
 "nbformat_minor": 2
}
