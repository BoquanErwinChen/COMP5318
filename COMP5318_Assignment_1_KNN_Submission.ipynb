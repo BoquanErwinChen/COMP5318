{
 "cells": [
  {
   "cell_type": "code",
   "execution_count": 1,
   "metadata": {},
   "outputs": [
    {
     "name": "stderr",
     "output_type": "stream",
     "text": [
      "C:\\Users\\jouse\\Anaconda2\\envs\\py36\\lib\\site-packages\\h5py\\__init__.py:36: FutureWarning: Conversion of the second argument of issubdtype from `float` to `np.floating` is deprecated. In future, it will be treated as `np.float64 == np.dtype(float).type`.\n",
      "  from ._conv import register_converters as _register_converters\n"
     ]
    }
   ],
   "source": [
    "%matplotlib inline\n",
    "\n",
    "import h5py\n",
    "import numpy as np\n",
    "from matplotlib import pyplot as plt\n",
    "import matplotlib as mpl\n",
    "import scipy\n",
    "from collections import Counter\n",
    "from ipywidgets import interact, interactive, fixed\n",
    "import ipywidgets as widgets\n",
    "from IPython.display import display\n",
    "from numpy.random import shuffle\n",
    "from scipy.spatial.distance import pdist, squareform\n",
    "from scipy.spatial import KDTree\n",
    "\n",
    "mpl.style.use('seaborn')"
   ]
  },
  {
   "cell_type": "code",
   "execution_count": 2,
   "metadata": {},
   "outputs": [],
   "source": [
    "def get_accuracy(y_true, y_pred): \n",
    "    \"\"\"\n",
    "    Calculate the accuracy score.\n",
    "    \"\"\"\n",
    "    y_true = np.array(y_true)\n",
    "    y_pred = np.array(y_pred)\n",
    "    return np.sum(y_true == y_pred)/len(y_true)\n",
    "\n",
    "def flat(data):\n",
    "    \"\"\"\n",
    "    Flatten images in the data array. \n",
    "    \"\"\"\n",
    "    return data.reshape(data.shape[0], data.shape[1]**2)"
   ]
  },
  {
   "cell_type": "code",
   "execution_count": 3,
   "metadata": {},
   "outputs": [],
   "source": [
    "# load training data and labels\n",
    "with h5py.File('images_training.h5','r') as H:\n",
    "    data = np.copy(H['data'])\n",
    "    data = np.array([x/np.amax(x) for x in data]) # normalize images\n",
    "with h5py.File('labels_training.h5','r') as H:\n",
    "    label = np.copy(H['label'])"
   ]
  },
  {
   "cell_type": "code",
   "execution_count": 4,
   "metadata": {},
   "outputs": [],
   "source": [
    "# load testing data and labels\n",
    "with h5py.File('images_testing.h5','r') as H:\n",
    "    data_test = np.copy(H['data'])\n",
    "    data_test = np.array([x/np.amax(x) for x in data_test]) # normalize images\n",
    "with h5py.File('labels_testing_2000.h5','r') as H:\n",
    "    label_test = np.copy(H['label'])"
   ]
  },
  {
   "cell_type": "markdown",
   "metadata": {},
   "source": [
    "## Singular Value Decomposition "
   ]
  },
  {
   "cell_type": "code",
   "execution_count": 5,
   "metadata": {},
   "outputs": [],
   "source": [
    "k_svd = 10 # number of singular values to save"
   ]
  },
  {
   "cell_type": "code",
   "execution_count": 6,
   "metadata": {},
   "outputs": [],
   "source": [
    "# Singular Value Decomposition on training images\n",
    "\n",
    "u, s, vh = np.linalg.svd(data)\n",
    "data_svd = np.array([u[i][:,:k_svd] @ np.diag(s[i][:k_svd]) @ vh[i][:k_svd:,] for i in range(s.shape[0])])"
   ]
  },
  {
   "cell_type": "code",
   "execution_count": 7,
   "metadata": {},
   "outputs": [],
   "source": [
    "# Singular Value Decomposition on testing images\n",
    "\n",
    "u, s, vh = np.linalg.svd(data_test)\n",
    "data_test_svd = np.array([u[i][:,:k_svd] @ np.diag(s[i][:k_svd]) @ vh[i][:k_svd:,] for i in range(s.shape[0])])"
   ]
  },
  {
   "cell_type": "markdown",
   "metadata": {},
   "source": [
    "## Principal Component Analysis\n",
    "\n",
    "Note: PCA is applied to the entire dataset, while SVD is applied to each image. "
   ]
  },
  {
   "cell_type": "code",
   "execution_count": 8,
   "metadata": {},
   "outputs": [],
   "source": [
    "def PCA(n_components, data):\n",
    "    \"\"\"\n",
    "    Principal Component Analysis\n",
    "    \n",
    "    Parameters: \n",
    "    \n",
    "    n_components: int\n",
    "        Number of principal components to use\n",
    "        \n",
    "    data : array-like, shape = (n_samples, n_features)\n",
    "        Data to perform PCA on\n",
    "    \n",
    "    \"\"\"\n",
    "    n_components = n_components\n",
    "    data = data\n",
    "    X = data - np.mean(data, axis=0) # data matrix normalized by mean\n",
    "    S = np.cov(X.T) # compute covariance matrix of X\n",
    "    L, V = np.linalg.eig(S) # L - array of eigenvalues; V - matrix of eigenvectors\n",
    "    V = V[:,np.argsort(-L)][:,:n_components] # sort eigenvectors by descending order on eigenvalues\n",
    "    L = -np.sort(-L)[:n_components] # sort eigenvalues by descending order\n",
    "    X_PCA = V.T @ X.T\n",
    "    X_PCA = X_PCA.T\n",
    "    return X_PCA, V"
   ]
  },
  {
   "cell_type": "code",
   "execution_count": 9,
   "metadata": {},
   "outputs": [
    {
     "name": "stdout",
     "output_type": "stream",
     "text": [
      "(30000, 20)\n",
      "(5000, 20)\n"
     ]
    }
   ],
   "source": [
    "n_components = 20\n",
    "X_PCA, V = PCA(n_components=n_components, data=np.append(flat(data), flat(data_test), axis=0))\n",
    "data_pca = X_PCA[:data.shape[0]]\n",
    "data_test_pca = X_PCA[-data_test.shape[0]:]\n",
    "print(data_pca.shape)\n",
    "print(data_test_pca.shape)"
   ]
  },
  {
   "cell_type": "markdown",
   "metadata": {},
   "source": [
    "## K-fold Cross Validation"
   ]
  },
  {
   "cell_type": "code",
   "execution_count": 10,
   "metadata": {},
   "outputs": [],
   "source": [
    "def kfold(N, k=10):\n",
    "    \"\"\"\n",
    "    Generate lists of indices for data divided into k equal parts for cross validation. \n",
    "    \n",
    "    Parameters\n",
    "    ----------\n",
    "    N: int\n",
    "        number of samples in the data. \n",
    "    \n",
    "    k: int\n",
    "        number of parts the data will be split into. \n",
    "    \n",
    "    Returns\n",
    "    -------\n",
    "    indices: array, shape(k,) \n",
    "        An array of arrays, each containing the indices for one part of data. \n",
    "    \"\"\"\n",
    "    \n",
    "    arr = np.arange(N)\n",
    "    np.random.shuffle(arr)\n",
    "    indices = np.array([arr[i::k] for i in range(k)])\n",
    "    \n",
    "    return indices"
   ]
  },
  {
   "cell_type": "markdown",
   "metadata": {},
   "source": [
    "## K Nearest Neighbor Algorithm"
   ]
  },
  {
   "cell_type": "code",
   "execution_count": 11,
   "metadata": {},
   "outputs": [],
   "source": [
    "class KNN:\n",
    "    \"\"\"\n",
    "    K Nearest Neighbor\n",
    "    \n",
    "    Parameters\n",
    "    ----------\n",
    "    \n",
    "    K : int. \n",
    "        Number of nearest neighbors to use for prediction\n",
    "        \n",
    "    \"\"\"\n",
    "    def __init__(self, K=5):\n",
    "        self.K = K\n",
    "        \n",
    "    def fit_predict(self, train_data, train_label, test_data):\n",
    "        \"\"\"\n",
    "        Fit and predict the labels for testing data\n",
    "\n",
    "        Parameters\n",
    "        ----------\n",
    "\n",
    "        train_data : array-like, shape = (n_samples, n_features)\n",
    "            Feature values in training data\n",
    "        \n",
    "        train_label : array-like, shape = (n_samples,)\n",
    "            Target labels in training data \n",
    "            \n",
    "        test_data : array-like, shape = (n_samples, n_features)\n",
    "            Feature values in test data\n",
    "\n",
    "        \"\"\"\n",
    "        self.train_data = train_data\n",
    "        self.train_label = train_label\n",
    "        self.test_data = test_data\n",
    "        tree = KDTree(train_data)\n",
    "        dist, indices = tree.query(test_data, k=self.K)\n",
    "        y_pred = np.array([Counter(train_label[indices[n]]).most_common(1)[0][0] for n in range(test_data.shape[0])])\n",
    "        return y_pred\n",
    "    "
   ]
  },
  {
   "cell_type": "markdown",
   "metadata": {},
   "source": [
    "### Cross Validation on PCA Transformed Data"
   ]
  },
  {
   "cell_type": "code",
   "execution_count": 12,
   "metadata": {},
   "outputs": [],
   "source": [
    "# %%time\n",
    "\n",
    "# k = 10 # number of folds for cv\n",
    "# indices_cv = kfold(data_pca.shape[0], k=10) # indices for the k-folds\n",
    "# score_list_PCA = []\n",
    "# n_comp_list = np.arange(5, 26)\n",
    "# for K in n_comp_list:\n",
    "#     knn = KNN(K=K)\n",
    "#     score = 0\n",
    "#     for i in range(k):\n",
    "#         test_id = indices_cv[i]\n",
    "#         train_id = np.hstack(np.delete(indices_cv, i, 0))\n",
    "#         y_true = label[test_id]\n",
    "#         y_pred = knn.fit_predict(data_pca[train_id], label[train_id], data_pca[test_id])\n",
    "#         score += get_accuracy(y_true, y_pred)\n",
    "#     score_list_PCA.append(score/k)\n",
    "# score_list_PCA = np.array(score_list_PCA)\n",
    "\n",
    "# # Wall time: 2h 56min 10s"
   ]
  },
  {
   "cell_type": "code",
   "execution_count": 13,
   "metadata": {},
   "outputs": [],
   "source": [
    "score_list_PCA = np.array([0.83923333, 0.8413    , 0.83953333, 0.84273333, 0.84116667,\n",
    "                           0.84323333, 0.8412    , 0.8411    , 0.84056667, 0.84116667,\n",
    "                           0.83873333, 0.83953333, 0.83746667, 0.83756667, 0.83713333,\n",
    "                           0.83696667, 0.8355    , 0.8357    , 0.8348    , 0.8348    ,\n",
    "                           0.8335    ])"
   ]
  },
  {
   "cell_type": "code",
   "execution_count": 14,
   "metadata": {},
   "outputs": [
    {
     "data": {
      "image/png": "[encoded data removed]",
      "text/plain": [
       "<Figure size 432x288 with 1 Axes>"
      ]
     },
     "metadata": {},
     "output_type": "display_data"
    }
   ],
   "source": [
    "## CV on PCA transformed data\n",
    "\n",
    "fig, ax = plt.subplots()\n",
    "n_comp_list = np.arange(5, 26)\n",
    "ax.plot(n_comp_list, score_list_PCA)\n",
    "ax.axvline(n_comp_list[np.argmax(score_list_PCA)], c='m', linestyle='--', alpha=0.6)\n",
    "ax.set_xlabel('# Neighbors')\n",
    "ax.set_ylabel('Accuracy')\n",
    "ax.set_xticks(n_comp_list)\n",
    "ax.set_title('Results after PCA')\n",
    "plt.show()"
   ]
  },
  {
   "cell_type": "markdown",
   "metadata": {},
   "source": [
    "### Cross Validation on Original Data"
   ]
  },
  {
   "cell_type": "code",
   "execution_count": 15,
   "metadata": {},
   "outputs": [],
   "source": [
    "# %%time\n",
    "\n",
    "# k = 10 # number of folds for cv\n",
    "# indices_cv = kfold(flat(data).shape[0], k=10) # indices for the k-folds\n",
    "# score_list = []\n",
    "# n_comp_list = np.arange(5, 26)\n",
    "# for K in n_comp_list:\n",
    "#     knn = KNN(K=K)\n",
    "#     score = 0\n",
    "#     for i in range(k):\n",
    "#         test_id = indices_cv[i]\n",
    "#         train_id = np.hstack(np.delete(indices_cv, i, 0))\n",
    "#         y_true = label[test_id]\n",
    "#         y_pred = knn.fit_predict(flat(data)[train_id], label[train_id], flat(data)[test_id])\n",
    "#         score += get_accuracy(y_true, y_pred)\n",
    "#     score_list.append(score/k)\n",
    "# score_list = np.array(score_list)"
   ]
  },
  {
   "cell_type": "code",
   "execution_count": 16,
   "metadata": {},
   "outputs": [],
   "source": [
    "score_list = np.array([0.8453    , 0.84533333, 0.84593333, 0.84646667, 0.8459    ,\n",
    "                       0.8467    , 0.84503333, 0.84603333, 0.84593333, 0.84686667,\n",
    "                       0.84643333, 0.84566667, 0.8455    , 0.84586667, 0.84596667,\n",
    "                       0.8465    , 0.84576667, 0.8462    , 0.84563333, 0.84543333,\n",
    "                       0.84443333])"
   ]
  },
  {
   "cell_type": "code",
   "execution_count": 17,
   "metadata": {},
   "outputs": [
    {
     "data": {
      "image/png": "[encoded data removed]",
      "text/plain": [
       "<Figure size 432x288 with 1 Axes>"
      ]
     },
     "metadata": {},
     "output_type": "display_data"
    }
   ],
   "source": [
    "## CV on the original images\n",
    "\n",
    "fig, ax = plt.subplots()\n",
    "n_comp_list = np.arange(5, 26)\n",
    "ax.plot(n_comp_list, score_list)\n",
    "ax.axvline(n_comp_list[np.argmax(score_list)], c='m', linestyle='--', alpha=0.6)\n",
    "ax.set_xlabel('# Neighbors')\n",
    "ax.set_ylabel('Accuracy')\n",
    "ax.set_xticks(n_comp_list)\n",
    "ax.set_title('Results on Original Images')\n",
    "plt.show()"
   ]
  },
  {
   "cell_type": "markdown",
   "metadata": {},
   "source": [
    "## Predict on Test Data And Output"
   ]
  },
  {
   "cell_type": "code",
   "execution_count": 18,
   "metadata": {},
   "outputs": [],
   "source": [
    "# %%time\n",
    "\n",
    "# training on original images\n",
    "\n",
    "# y_true = label_test\n",
    "\n",
    "# knn = KNN(K=14)\n",
    "# y_pred = knn.fit_predict(flat(data), label, flat(data_test))\n",
    "# print(get_accuracy(y_true, y_pred[:2000]))\n",
    "\n",
    "# # 0.8315\n",
    "# # Wall time: 47min 58s"
   ]
  },
  {
   "cell_type": "code",
   "execution_count": 19,
   "metadata": {},
   "outputs": [],
   "source": [
    "# %%time\n",
    "\n",
    "# # training on svd transformed images\n",
    "\n",
    "# y_true = label_test\n",
    "\n",
    "# knn = KNN(K=14)\n",
    "# y_pred = knn.fit_predict(flat(data_svd), label, flat(data_test_svd))\n",
    "# print(get_accuracy(y_true, y_pred[:2000]))\n",
    "\n",
    "# # 0.832\n",
    "# # Wall time: 45min 45s"
   ]
  },
  {
   "cell_type": "code",
   "execution_count": 20,
   "metadata": {},
   "outputs": [
    {
     "name": "stdout",
     "output_type": "stream",
     "text": [
      "0.8405\n",
      "Wall time: 1min 35s\n"
     ]
    }
   ],
   "source": [
    "%%time\n",
    "\n",
    "# training on pca transformed images\n",
    "\n",
    "y_true = label_test\n",
    "\n",
    "knn = KNN(K=10)\n",
    "y_pred = knn.fit_predict(data_pca, label, data_test_pca)\n",
    "print(get_accuracy(y_true, y_pred[:2000]))\n",
    "\n",
    "# 0.8405\n",
    "# Wall time: 1min 35s"
   ]
  },
  {
   "cell_type": "code",
   "execution_count": 21,
   "metadata": {},
   "outputs": [],
   "source": [
    "with h5py.File('predicted_labels.h5','w') as H:\n",
    "    H.create_dataset('label',data=y_pred)"
   ]
  },
  {
   "cell_type": "code",
   "execution_count": null,
   "metadata": {},
   "outputs": [],
   "source": []
  }
 ],
 "metadata": {
  "kernelspec": {
   "display_name": "Python 3",
   "language": "python",
   "name": "python3"
  },
  "language_info": {
   "codemirror_mode": {
    "name": "ipython",
    "version": 3
   },
   "file_extension": ".py",
   "mimetype": "text/x-python",
   "name": "python",
   "nbconvert_exporter": "python",
   "pygments_lexer": "ipython3",
   "version": "3.6.5"
  }
 },
 "nbformat": 4,
 "nbformat_minor": 2
}
